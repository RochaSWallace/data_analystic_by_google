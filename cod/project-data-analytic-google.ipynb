{
 "cells": [
  {
   "cell_type": "markdown",
   "id": "698846dc",
   "metadata": {
    "_cell_guid": "1a113933-7c3e-4d78-ba49-53fdbf17cf33",
    "_uuid": "324e6fed-dbd6-45e4-a140-cea870e592c7",
    "jupyter": {
     "outputs_hidden": false,
     "source_hidden": true
    },
    "papermill": {
     "duration": 0.004934,
     "end_time": "2023-10-10T16:47:08.076575",
     "exception": false,
     "start_time": "2023-10-10T16:47:08.071641",
     "status": "completed"
    },
    "tags": []
   },
   "source": [
    "---\n",
    "title: Analise de caso\n",
    "author: Wallace\n",
    "date: 2023-10-09\n",
    "output: Notebook R\n",
    "---\n",
    "\n",
    "\n",
    "# Essa análise é a conclussão do curso de análise de dados, será mostrado o passo a passo, e como eu cheguei a conclusão.\n",
    "## A analise é dividida em 7 passos.\n",
    "1. Perguntar\n",
    "2. Preparar\n",
    "3. Processar\n",
    "4. Analisar\n",
    "5. Compartilhar\n",
    "6. Agir\n",
    "\n",
    "## 1 - Perguntar:\n",
    "### O contexto será dado abaixo:\n",
    "Você é um analista de dados júnior que trabalha na equipe de analistas de marketing da Cyclistic, uma empresa de compartilhamento de bicicletas em Chicago. O diretor de marketing acredita que o sucesso futuro da empresa depende da maximização do número de planos anuais contratados. Portanto, sua equipe quer entender como os ciclistas casuais e os membros anuais usam as bicicletas da Cyclistic de forma diferente. A partir desses insights, sua equipe criará uma nova estratégia de marketing para converter passageiros casuais em membros anuais. Mas, primeiro, os executivos da Cyclistic devem aprovar suas recomendações que, portanto, devem ser apoiadas com insights de dados convincentes e visualizações de dados profissionais.\n",
    "\n",
    "### Perguntas geradas:\n",
    "1.\tComo os membros anuais e os ciclistas casuais usam as bicicletas da Cyclistic de forma diferente?\n",
    "2.\tPor que os passageiros casuais iriam querer adquirir planos anuais da Cyclistic?\n",
    "3.\tComo a Cyclistic pode usar a mídia digital para influenciar os passageiros casuais a se tornarem membros?\n",
    "\n",
    "## 2 - Preparar os dados:\n",
    "Nesse ponto é importante verificar a origem dos dados, se podem conter algum erro ou algum viés, e claro, mantendo a privacidade do usuário, como os dados são gerados pela propría empresa, já temos uma maior confiança.\n",
    "Os dados são retiradados deste [link](https://divvy-tripdata.s3.amazonaws.com/index.html)\n",
    "\n",
    "## 3 - Processar os dados:\n",
    "Finalmente iremos começar a programar, por enquanto só fazendo uma limpeza nos dados, adicionando alguns dados úteis e retirando alguns inúteis.ngan)"
   ]
  },
  {
   "cell_type": "code",
   "execution_count": 1,
   "id": "e9ceb0e7",
   "metadata": {
    "execution": {
     "iopub.execute_input": "2023-10-10T16:47:08.088118Z",
     "iopub.status.busy": "2023-10-10T16:47:08.086098Z",
     "iopub.status.idle": "2023-10-10T16:47:09.168761Z",
     "shell.execute_reply": "2023-10-10T16:47:09.166902Z"
    },
    "papermill": {
     "duration": 1.091308,
     "end_time": "2023-10-10T16:47:09.171799",
     "exception": false,
     "start_time": "2023-10-10T16:47:08.080491",
     "status": "completed"
    },
    "tags": [],
    "vscode": {
     "languageId": "r"
    }
   },
   "outputs": [
    {
     "name": "stderr",
     "output_type": "stream",
     "text": [
      "── \u001b[1mAttaching core tidyverse packages\u001b[22m ──────────────────────── tidyverse 2.0.0 ──\n",
      "\u001b[32m✔\u001b[39m \u001b[34mdplyr    \u001b[39m 1.1.2     \u001b[32m✔\u001b[39m \u001b[34mreadr    \u001b[39m 2.1.4\n",
      "\u001b[32m✔\u001b[39m \u001b[34mforcats  \u001b[39m 1.0.0     \u001b[32m✔\u001b[39m \u001b[34mstringr  \u001b[39m 1.5.0\n",
      "\u001b[32m✔\u001b[39m \u001b[34mggplot2  \u001b[39m 3.4.2     \u001b[32m✔\u001b[39m \u001b[34mtibble   \u001b[39m 3.2.1\n",
      "\u001b[32m✔\u001b[39m \u001b[34mlubridate\u001b[39m 1.9.2     \u001b[32m✔\u001b[39m \u001b[34mtidyr    \u001b[39m 1.3.0\n",
      "\u001b[32m✔\u001b[39m \u001b[34mpurrr    \u001b[39m 1.0.1     \n",
      "── \u001b[1mConflicts\u001b[22m ────────────────────────────────────────── tidyverse_conflicts() ──\n",
      "\u001b[31m✖\u001b[39m \u001b[34mdplyr\u001b[39m::\u001b[32mfilter()\u001b[39m masks \u001b[34mstats\u001b[39m::filter()\n",
      "\u001b[31m✖\u001b[39m \u001b[34mdplyr\u001b[39m::\u001b[32mlag()\u001b[39m    masks \u001b[34mstats\u001b[39m::lag()\n",
      "\u001b[36mℹ\u001b[39m Use the conflicted package (\u001b[3m\u001b[34m<http://conflicted.r-lib.org/>\u001b[39m\u001b[23m) to force all conflicts to become errors\n"
     ]
    }
   ],
   "source": [
    "#Instalação de algumas bibliotecas\n",
    "library(tidyverse)\n",
    "library(ggplot2)\n",
    "library(lubridate)"
   ]
  },
  {
   "cell_type": "markdown",
   "id": "a2d1f6f6",
   "metadata": {
    "papermill": {
     "duration": 0.003839,
     "end_time": "2023-10-10T16:47:09.179712",
     "exception": false,
     "start_time": "2023-10-10T16:47:09.175873",
     "status": "completed"
    },
    "tags": []
   },
   "source": [
    "### Agora vamos ler nossos arquivos e combina-los para ter uma maior facilidade no processo."
   ]
  },
  {
   "cell_type": "code",
   "execution_count": 2,
   "id": "261d5c29",
   "metadata": {
    "execution": {
     "iopub.execute_input": "2023-10-10T16:47:09.218619Z",
     "iopub.status.busy": "2023-10-10T16:47:09.189166Z",
     "iopub.status.idle": "2023-10-10T16:49:23.254146Z",
     "shell.execute_reply": "2023-10-10T16:49:23.252326Z"
    },
    "papermill": {
     "duration": 134.073138,
     "end_time": "2023-10-10T16:49:23.256611",
     "exception": false,
     "start_time": "2023-10-10T16:47:09.183473",
     "status": "completed"
    },
    "tags": [],
    "vscode": {
     "languageId": "r"
    }
   },
   "outputs": [],
   "source": [
    "ago_2022 <- read.csv(\"/kaggle/input/cyclistic-bike-share/202104-divvy-tripdata.csv\")\n",
    "set_2022 <- read.csv(\"/kaggle/input/cyclistic-bike-share/202105-divvy-tripdata.csv\")\n",
    "out_2022 <- read.csv(\"/kaggle/input/cyclistic-bike-share/202106-divvy-tripdata.csv\")\n",
    "nov_2022 <- read.csv(\"/kaggle/input/cyclistic-bike-share/202107-divvy-tripdata.csv\")\n",
    "dez_2023 <- read.csv(\"/kaggle/input/cyclistic-bike-share/202108-divvy-tripdata.csv\")\n",
    "jan_2023 <- read.csv(\"/kaggle/input/cyclistic-bike-share/202109-divvy-tripdata.csv\")\n",
    "fev_2023 <- read.csv(\"/kaggle/input/cyclistic-bike-share/202110-divvy-tripdata.csv\")\n",
    "mar_2023 <- read.csv(\"/kaggle/input/cyclistic-bike-share/202111-divvy-tripdata.csv\")\n",
    "abr_2023 <- read.csv(\"/kaggle/input/cyclistic-bike-share/202112-divvy-tripdata.csv\")\n",
    "mai_2023 <- read.csv(\"/kaggle/input/cyclistic-bike-share/202201-divvy-tripdata.csv\")\n",
    "jun_2023 <- read.csv(\"/kaggle/input/cyclistic-bike-share/202202-divvy-tripdata.csv\")\n",
    "jul_2023 <- read.csv(\"/kaggle/input/cyclistic-bike-share/202203-divvy-tripdata.csv\")\n",
    "\n",
    "last_year <- rbind(ago_2022, set_2022, out_2022, nov_2022, dez_2023, jan_2023, fev_2023, mar_2023, abr_2023, mai_2023, jun_2023, jul_2023)\n",
    "#Na primeira analise os dados foram retirados do site de forma atual, como não tenho acesso a esses dados pelo kaggle, utilizei os dados disponiveis no proprio kaggle."
   ]
  },
  {
   "cell_type": "markdown",
   "id": "d26bf581",
   "metadata": {
    "papermill": {
     "duration": 0.006505,
     "end_time": "2023-10-10T16:49:23.269449",
     "exception": false,
     "start_time": "2023-10-10T16:49:23.262944",
     "status": "completed"
    },
    "tags": []
   },
   "source": [
    "### Para se ter um melhor noção dos nosso dados, haverá um pequeno baceçalho abaixo, e uma lista com nossos tipos de dados."
   ]
  },
  {
   "cell_type": "code",
   "execution_count": 3,
   "id": "e2f480e4",
   "metadata": {
    "execution": {
     "iopub.execute_input": "2023-10-10T16:49:23.280666Z",
     "iopub.status.busy": "2023-10-10T16:49:23.279115Z",
     "iopub.status.idle": "2023-10-10T16:49:23.341916Z",
     "shell.execute_reply": "2023-10-10T16:49:23.339932Z"
    },
    "papermill": {
     "duration": 0.070826,
     "end_time": "2023-10-10T16:49:23.344087",
     "exception": false,
     "start_time": "2023-10-10T16:49:23.273261",
     "status": "completed"
    },
    "tags": [],
    "vscode": {
     "languageId": "r"
    }
   },
   "outputs": [
    {
     "data": {
      "text/html": [
       "<table class=\"dataframe\">\n",
       "<caption>A data.frame: 6 × 13</caption>\n",
       "<thead>\n",
       "\t<tr><th></th><th scope=col>ride_id</th><th scope=col>rideable_type</th><th scope=col>started_at</th><th scope=col>ended_at</th><th scope=col>start_station_name</th><th scope=col>start_station_id</th><th scope=col>end_station_name</th><th scope=col>end_station_id</th><th scope=col>start_lat</th><th scope=col>start_lng</th><th scope=col>end_lat</th><th scope=col>end_lng</th><th scope=col>member_casual</th></tr>\n",
       "\t<tr><th></th><th scope=col>&lt;chr&gt;</th><th scope=col>&lt;chr&gt;</th><th scope=col>&lt;chr&gt;</th><th scope=col>&lt;chr&gt;</th><th scope=col>&lt;chr&gt;</th><th scope=col>&lt;chr&gt;</th><th scope=col>&lt;chr&gt;</th><th scope=col>&lt;chr&gt;</th><th scope=col>&lt;dbl&gt;</th><th scope=col>&lt;dbl&gt;</th><th scope=col>&lt;dbl&gt;</th><th scope=col>&lt;dbl&gt;</th><th scope=col>&lt;chr&gt;</th></tr>\n",
       "</thead>\n",
       "<tbody>\n",
       "\t<tr><th scope=row>1</th><td>6C992BD37A98A63F</td><td>classic_bike</td><td>2021-04-12 18:25:36</td><td>2021-04-12 18:56:55</td><td><span style=white-space:pre-wrap>State St &amp; Pearson St   </span></td><td>TA1307000061</td><td>Southport Ave &amp; Waveland Ave</td><td><span style=white-space:pre-wrap>13235       </span></td><td>41.89745</td><td>-87.62872</td><td>41.94815</td><td>-87.66394</td><td>member</td></tr>\n",
       "\t<tr><th scope=row>2</th><td>1E0145613A209000</td><td>docked_bike </td><td>2021-04-27 17:27:11</td><td>2021-04-27 18:31:29</td><td>Dorchester Ave &amp; 49th St</td><td>KA1503000069</td><td><span style=white-space:pre-wrap>Dorchester Ave &amp; 49th St    </span></td><td>KA1503000069</td><td>41.80577</td><td>-87.59246</td><td>41.80577</td><td>-87.59246</td><td>casual</td></tr>\n",
       "\t<tr><th scope=row>3</th><td>E498E15508A80BAD</td><td>docked_bike </td><td>2021-04-03 12:42:45</td><td>2021-04-07 11:40:24</td><td><span style=white-space:pre-wrap>Loomis Blvd &amp; 84th St   </span></td><td><span style=white-space:pre-wrap>20121       </span></td><td><span style=white-space:pre-wrap>Loomis Blvd &amp; 84th St       </span></td><td><span style=white-space:pre-wrap>20121       </span></td><td>41.74149</td><td>-87.65841</td><td>41.74149</td><td>-87.65841</td><td>casual</td></tr>\n",
       "\t<tr><th scope=row>4</th><td>1887262AD101C604</td><td>classic_bike</td><td>2021-04-17 09:17:42</td><td>2021-04-17 09:42:48</td><td>Honore St &amp; Division St </td><td>TA1305000034</td><td>Southport Ave &amp; Waveland Ave</td><td><span style=white-space:pre-wrap>13235       </span></td><td>41.90312</td><td>-87.67394</td><td>41.94815</td><td>-87.66394</td><td>member</td></tr>\n",
       "\t<tr><th scope=row>5</th><td>C123548CAB2A32A5</td><td>docked_bike </td><td>2021-04-03 12:42:25</td><td>2021-04-03 14:13:42</td><td><span style=white-space:pre-wrap>Loomis Blvd &amp; 84th St   </span></td><td><span style=white-space:pre-wrap>20121       </span></td><td><span style=white-space:pre-wrap>Loomis Blvd &amp; 84th St       </span></td><td><span style=white-space:pre-wrap>20121       </span></td><td>41.74149</td><td>-87.65841</td><td>41.74149</td><td>-87.65841</td><td>casual</td></tr>\n",
       "\t<tr><th scope=row>6</th><td>097E76F3651B1AC1</td><td>classic_bike</td><td>2021-04-25 18:43:18</td><td>2021-04-25 18:43:59</td><td><span style=white-space:pre-wrap>Clinton St &amp; Polk St    </span></td><td><span style=white-space:pre-wrap>15542       </span></td><td><span style=white-space:pre-wrap>Clinton St &amp; Polk St        </span></td><td><span style=white-space:pre-wrap>15542       </span></td><td>41.87147</td><td>-87.64095</td><td>41.87147</td><td>-87.64095</td><td>casual</td></tr>\n",
       "</tbody>\n",
       "</table>\n"
      ],
      "text/latex": [
       "A data.frame: 6 × 13\n",
       "\\begin{tabular}{r|lllllllllllll}\n",
       "  & ride\\_id & rideable\\_type & started\\_at & ended\\_at & start\\_station\\_name & start\\_station\\_id & end\\_station\\_name & end\\_station\\_id & start\\_lat & start\\_lng & end\\_lat & end\\_lng & member\\_casual\\\\\n",
       "  & <chr> & <chr> & <chr> & <chr> & <chr> & <chr> & <chr> & <chr> & <dbl> & <dbl> & <dbl> & <dbl> & <chr>\\\\\n",
       "\\hline\n",
       "\t1 & 6C992BD37A98A63F & classic\\_bike & 2021-04-12 18:25:36 & 2021-04-12 18:56:55 & State St \\& Pearson St    & TA1307000061 & Southport Ave \\& Waveland Ave & 13235        & 41.89745 & -87.62872 & 41.94815 & -87.66394 & member\\\\\n",
       "\t2 & 1E0145613A209000 & docked\\_bike  & 2021-04-27 17:27:11 & 2021-04-27 18:31:29 & Dorchester Ave \\& 49th St & KA1503000069 & Dorchester Ave \\& 49th St     & KA1503000069 & 41.80577 & -87.59246 & 41.80577 & -87.59246 & casual\\\\\n",
       "\t3 & E498E15508A80BAD & docked\\_bike  & 2021-04-03 12:42:45 & 2021-04-07 11:40:24 & Loomis Blvd \\& 84th St    & 20121        & Loomis Blvd \\& 84th St        & 20121        & 41.74149 & -87.65841 & 41.74149 & -87.65841 & casual\\\\\n",
       "\t4 & 1887262AD101C604 & classic\\_bike & 2021-04-17 09:17:42 & 2021-04-17 09:42:48 & Honore St \\& Division St  & TA1305000034 & Southport Ave \\& Waveland Ave & 13235        & 41.90312 & -87.67394 & 41.94815 & -87.66394 & member\\\\\n",
       "\t5 & C123548CAB2A32A5 & docked\\_bike  & 2021-04-03 12:42:25 & 2021-04-03 14:13:42 & Loomis Blvd \\& 84th St    & 20121        & Loomis Blvd \\& 84th St        & 20121        & 41.74149 & -87.65841 & 41.74149 & -87.65841 & casual\\\\\n",
       "\t6 & 097E76F3651B1AC1 & classic\\_bike & 2021-04-25 18:43:18 & 2021-04-25 18:43:59 & Clinton St \\& Polk St     & 15542        & Clinton St \\& Polk St         & 15542        & 41.87147 & -87.64095 & 41.87147 & -87.64095 & casual\\\\\n",
       "\\end{tabular}\n"
      ],
      "text/markdown": [
       "\n",
       "A data.frame: 6 × 13\n",
       "\n",
       "| <!--/--> | ride_id &lt;chr&gt; | rideable_type &lt;chr&gt; | started_at &lt;chr&gt; | ended_at &lt;chr&gt; | start_station_name &lt;chr&gt; | start_station_id &lt;chr&gt; | end_station_name &lt;chr&gt; | end_station_id &lt;chr&gt; | start_lat &lt;dbl&gt; | start_lng &lt;dbl&gt; | end_lat &lt;dbl&gt; | end_lng &lt;dbl&gt; | member_casual &lt;chr&gt; |\n",
       "|---|---|---|---|---|---|---|---|---|---|---|---|---|---|\n",
       "| 1 | 6C992BD37A98A63F | classic_bike | 2021-04-12 18:25:36 | 2021-04-12 18:56:55 | State St &amp; Pearson St    | TA1307000061 | Southport Ave &amp; Waveland Ave | 13235        | 41.89745 | -87.62872 | 41.94815 | -87.66394 | member |\n",
       "| 2 | 1E0145613A209000 | docked_bike  | 2021-04-27 17:27:11 | 2021-04-27 18:31:29 | Dorchester Ave &amp; 49th St | KA1503000069 | Dorchester Ave &amp; 49th St     | KA1503000069 | 41.80577 | -87.59246 | 41.80577 | -87.59246 | casual |\n",
       "| 3 | E498E15508A80BAD | docked_bike  | 2021-04-03 12:42:45 | 2021-04-07 11:40:24 | Loomis Blvd &amp; 84th St    | 20121        | Loomis Blvd &amp; 84th St        | 20121        | 41.74149 | -87.65841 | 41.74149 | -87.65841 | casual |\n",
       "| 4 | 1887262AD101C604 | classic_bike | 2021-04-17 09:17:42 | 2021-04-17 09:42:48 | Honore St &amp; Division St  | TA1305000034 | Southport Ave &amp; Waveland Ave | 13235        | 41.90312 | -87.67394 | 41.94815 | -87.66394 | member |\n",
       "| 5 | C123548CAB2A32A5 | docked_bike  | 2021-04-03 12:42:25 | 2021-04-03 14:13:42 | Loomis Blvd &amp; 84th St    | 20121        | Loomis Blvd &amp; 84th St        | 20121        | 41.74149 | -87.65841 | 41.74149 | -87.65841 | casual |\n",
       "| 6 | 097E76F3651B1AC1 | classic_bike | 2021-04-25 18:43:18 | 2021-04-25 18:43:59 | Clinton St &amp; Polk St     | 15542        | Clinton St &amp; Polk St         | 15542        | 41.87147 | -87.64095 | 41.87147 | -87.64095 | casual |\n",
       "\n"
      ],
      "text/plain": [
       "  ride_id          rideable_type started_at          ended_at           \n",
       "1 6C992BD37A98A63F classic_bike  2021-04-12 18:25:36 2021-04-12 18:56:55\n",
       "2 1E0145613A209000 docked_bike   2021-04-27 17:27:11 2021-04-27 18:31:29\n",
       "3 E498E15508A80BAD docked_bike   2021-04-03 12:42:45 2021-04-07 11:40:24\n",
       "4 1887262AD101C604 classic_bike  2021-04-17 09:17:42 2021-04-17 09:42:48\n",
       "5 C123548CAB2A32A5 docked_bike   2021-04-03 12:42:25 2021-04-03 14:13:42\n",
       "6 097E76F3651B1AC1 classic_bike  2021-04-25 18:43:18 2021-04-25 18:43:59\n",
       "  start_station_name       start_station_id end_station_name            \n",
       "1 State St & Pearson St    TA1307000061     Southport Ave & Waveland Ave\n",
       "2 Dorchester Ave & 49th St KA1503000069     Dorchester Ave & 49th St    \n",
       "3 Loomis Blvd & 84th St    20121            Loomis Blvd & 84th St       \n",
       "4 Honore St & Division St  TA1305000034     Southport Ave & Waveland Ave\n",
       "5 Loomis Blvd & 84th St    20121            Loomis Blvd & 84th St       \n",
       "6 Clinton St & Polk St     15542            Clinton St & Polk St        \n",
       "  end_station_id start_lat start_lng end_lat  end_lng   member_casual\n",
       "1 13235          41.89745  -87.62872 41.94815 -87.66394 member       \n",
       "2 KA1503000069   41.80577  -87.59246 41.80577 -87.59246 casual       \n",
       "3 20121          41.74149  -87.65841 41.74149 -87.65841 casual       \n",
       "4 13235          41.90312  -87.67394 41.94815 -87.66394 member       \n",
       "5 20121          41.74149  -87.65841 41.74149 -87.65841 casual       \n",
       "6 15542          41.87147  -87.64095 41.87147 -87.64095 casual       "
      ]
     },
     "metadata": {},
     "output_type": "display_data"
    },
    {
     "name": "stdout",
     "output_type": "stream",
     "text": [
      "'data.frame':\t5723532 obs. of  13 variables:\n",
      " $ ride_id           : chr  \"6C992BD37A98A63F\" \"1E0145613A209000\" \"E498E15508A80BAD\" \"1887262AD101C604\" ...\n",
      " $ rideable_type     : chr  \"classic_bike\" \"docked_bike\" \"docked_bike\" \"classic_bike\" ...\n",
      " $ started_at        : chr  \"2021-04-12 18:25:36\" \"2021-04-27 17:27:11\" \"2021-04-03 12:42:45\" \"2021-04-17 09:17:42\" ...\n",
      " $ ended_at          : chr  \"2021-04-12 18:56:55\" \"2021-04-27 18:31:29\" \"2021-04-07 11:40:24\" \"2021-04-17 09:42:48\" ...\n",
      " $ start_station_name: chr  \"State St & Pearson St\" \"Dorchester Ave & 49th St\" \"Loomis Blvd & 84th St\" \"Honore St & Division St\" ...\n",
      " $ start_station_id  : chr  \"TA1307000061\" \"KA1503000069\" \"20121\" \"TA1305000034\" ...\n",
      " $ end_station_name  : chr  \"Southport Ave & Waveland Ave\" \"Dorchester Ave & 49th St\" \"Loomis Blvd & 84th St\" \"Southport Ave & Waveland Ave\" ...\n",
      " $ end_station_id    : chr  \"13235\" \"KA1503000069\" \"20121\" \"13235\" ...\n",
      " $ start_lat         : num  41.9 41.8 41.7 41.9 41.7 ...\n",
      " $ start_lng         : num  -87.6 -87.6 -87.7 -87.7 -87.7 ...\n",
      " $ end_lat           : num  41.9 41.8 41.7 41.9 41.7 ...\n",
      " $ end_lng           : num  -87.7 -87.6 -87.7 -87.7 -87.7 ...\n",
      " $ member_casual     : chr  \"member\" \"casual\" \"casual\" \"member\" ...\n"
     ]
    }
   ],
   "source": [
    "head(last_year)\n",
    "str(last_year)"
   ]
  },
  {
   "cell_type": "markdown",
   "id": "687a5e8c",
   "metadata": {
    "papermill": {
     "duration": 0.004096,
     "end_time": "2023-10-10T16:49:23.352612",
     "exception": false,
     "start_time": "2023-10-10T16:49:23.348516",
     "status": "completed"
    },
    "tags": []
   },
   "source": [
    "### Para melhor compreensão iremos mudar a nomenclatura de algumas colunas, e retirar as colunas (start_lat, start_lng, end_lat, end_lng) e faremos a conversão das nossas datas de str para datatime ou projectxct, conseguir usa-lá"
   ]
  },
  {
   "cell_type": "code",
   "execution_count": 4,
   "id": "20f86998",
   "metadata": {
    "execution": {
     "iopub.execute_input": "2023-10-10T16:49:23.364175Z",
     "iopub.status.busy": "2023-10-10T16:49:23.362576Z",
     "iopub.status.idle": "2023-10-10T16:49:35.970579Z",
     "shell.execute_reply": "2023-10-10T16:49:35.968778Z"
    },
    "papermill": {
     "duration": 12.616158,
     "end_time": "2023-10-10T16:49:35.972829",
     "exception": false,
     "start_time": "2023-10-10T16:49:23.356671",
     "status": "completed"
    },
    "tags": [],
    "vscode": {
     "languageId": "r"
    }
   },
   "outputs": [],
   "source": [
    "last_year <- last_year %>% rename(trip_id = ride_id,\n",
    "                                  bikeid= rideable_type,\n",
    "                                  start_time = started_at,\n",
    "                                  end_time = ended_at,\n",
    "                                  from_station_name = start_station_name,\n",
    "                                  from_station_id = start_station_id,\n",
    "                                  to_station_name = end_station_name,\n",
    "                                  to_station_id = end_station_id,\n",
    "                                  usertype = member_casual)\n",
    "\n",
    "last_year <- last_year %>%  \n",
    "  subset(select = -c(start_lat, start_lng, end_lat, end_lng))\n",
    "\n",
    "last_year <- last_year %>% \n",
    "  mutate(start_time = as_datetime(start_time), \n",
    "         end_time = as_datetime(end_time))"
   ]
  },
  {
   "cell_type": "markdown",
   "id": "516c6175",
   "metadata": {
    "papermill": {
     "duration": 0.004248,
     "end_time": "2023-10-10T16:49:35.981517",
     "exception": false,
     "start_time": "2023-10-10T16:49:35.977269",
     "status": "completed"
    },
    "tags": []
   },
   "source": [
    "### Agora com nossos dados um pouco mais limpos, vamos criar mais algumas colunas para uma melhor análise, nesse caso criaremos uma coluna tour_duration com a duração das corridas e mais 3 outras que vão dividir as datas em ano, mês e dias da semana."
   ]
  },
  {
   "cell_type": "code",
   "execution_count": 5,
   "id": "14e79540",
   "metadata": {
    "execution": {
     "iopub.execute_input": "2023-10-10T16:49:35.993377Z",
     "iopub.status.busy": "2023-10-10T16:49:35.991817Z",
     "iopub.status.idle": "2023-10-10T16:49:42.141651Z",
     "shell.execute_reply": "2023-10-10T16:49:42.139752Z"
    },
    "papermill": {
     "duration": 6.158327,
     "end_time": "2023-10-10T16:49:42.144002",
     "exception": false,
     "start_time": "2023-10-10T16:49:35.985675",
     "status": "completed"
    },
    "tags": [],
    "vscode": {
     "languageId": "r"
    }
   },
   "outputs": [],
   "source": [
    "last_year <- last_year %>% \n",
    "  mutate(tour_duration = difftime(end_time, start_time))\n",
    "\n",
    "#Criação de uma nova coluna com o dia da semana, sendo 1 - domingo e 7 - sabado, e os memes e anos normalmente.      \n",
    "last_year <- last_year %>% \n",
    "  mutate(day_of_week = wday(start_time),\n",
    "         rent_month = month(start_time),\n",
    "         rent_year = year(start_time))"
   ]
  },
  {
   "cell_type": "markdown",
   "id": "84ba6d7f",
   "metadata": {
    "papermill": {
     "duration": 0.004266,
     "end_time": "2023-10-10T16:49:42.152743",
     "exception": false,
     "start_time": "2023-10-10T16:49:42.148477",
     "status": "completed"
    },
    "tags": []
   },
   "source": [
    "### Classificando os dados pela coluna tour_duration, percebeu que existiam muitos tempos negativos, o que gera uma inconssistencia nos dados, gerados por erros nas datas, como pode ser visto abaixo."
   ]
  },
  {
   "cell_type": "code",
   "execution_count": 6,
   "id": "db944f67",
   "metadata": {
    "execution": {
     "iopub.execute_input": "2023-10-10T16:49:42.164601Z",
     "iopub.status.busy": "2023-10-10T16:49:42.163149Z",
     "iopub.status.idle": "2023-10-10T16:49:46.343549Z",
     "shell.execute_reply": "2023-10-10T16:49:46.341866Z"
    },
    "papermill": {
     "duration": 4.18971,
     "end_time": "2023-10-10T16:49:46.346672",
     "exception": false,
     "start_time": "2023-10-10T16:49:42.156962",
     "status": "completed"
    },
    "tags": [],
    "vscode": {
     "languageId": "r"
    }
   },
   "outputs": [
    {
     "data": {
      "text/html": [
       "<table class=\"dataframe\">\n",
       "<caption>A data.frame: 6 × 13</caption>\n",
       "<thead>\n",
       "\t<tr><th></th><th scope=col>trip_id</th><th scope=col>bikeid</th><th scope=col>start_time</th><th scope=col>end_time</th><th scope=col>from_station_name</th><th scope=col>from_station_id</th><th scope=col>to_station_name</th><th scope=col>to_station_id</th><th scope=col>usertype</th><th scope=col>tour_duration</th><th scope=col>day_of_week</th><th scope=col>rent_month</th><th scope=col>rent_year</th></tr>\n",
       "\t<tr><th></th><th scope=col>&lt;chr&gt;</th><th scope=col>&lt;chr&gt;</th><th scope=col>&lt;dttm&gt;</th><th scope=col>&lt;dttm&gt;</th><th scope=col>&lt;chr&gt;</th><th scope=col>&lt;chr&gt;</th><th scope=col>&lt;chr&gt;</th><th scope=col>&lt;chr&gt;</th><th scope=col>&lt;chr&gt;</th><th scope=col>&lt;drtn&gt;</th><th scope=col>&lt;dbl&gt;</th><th scope=col>&lt;dbl&gt;</th><th scope=col>&lt;dbl&gt;</th></tr>\n",
       "</thead>\n",
       "<tbody>\n",
       "\t<tr><th scope=row>1</th><td>7CA158F5F050156E</td><td>electric_bike</td><td>2021-11-07 01:58:08</td><td>2021-11-07 01:00:06</td><td><span style=white-space:pre-wrap>Halsted St &amp; Dickens Ave      </span></td><td><span style=white-space:pre-wrap>13192       </span></td><td><span style=white-space:pre-wrap>                              </span></td><td><span style=white-space:pre-wrap>            </span></td><td>casual</td><td>-3482 secs</td><td>1</td><td>11</td><td>2021</td></tr>\n",
       "\t<tr><th scope=row>2</th><td>FD8AF7324ABAE9DA</td><td>electric_bike</td><td>2021-11-07 01:56:51</td><td>2021-11-07 01:00:57</td><td><span style=white-space:pre-wrap>Clark St &amp; North Ave          </span></td><td><span style=white-space:pre-wrap>13128       </span></td><td><span style=white-space:pre-wrap>Larrabee St &amp; Webster Ave     </span></td><td><span style=white-space:pre-wrap>13193       </span></td><td>casual</td><td>-3354 secs</td><td>1</td><td>11</td><td>2021</td></tr>\n",
       "\t<tr><th scope=row>3</th><td>508B09A5FB0737DC</td><td>classic_bike </td><td>2021-11-07 01:54:50</td><td>2021-11-07 01:00:45</td><td><span style=white-space:pre-wrap>Sedgwick St &amp; Webster Ave     </span></td><td><span style=white-space:pre-wrap>13191       </span></td><td><span style=white-space:pre-wrap>Sedgwick St &amp; North Ave       </span></td><td>TA1307000038</td><td>member</td><td>-3245 secs</td><td>1</td><td>11</td><td>2021</td></tr>\n",
       "\t<tr><th scope=row>4</th><td>6F9E76F5EDAAC1B8</td><td>electric_bike</td><td>2021-11-07 01:55:42</td><td>2021-11-07 01:01:55</td><td><span style=white-space:pre-wrap>Milwaukee Ave &amp; Wabansia Ave  </span></td><td><span style=white-space:pre-wrap>13243       </span></td><td><span style=white-space:pre-wrap>Western Ave &amp; Division St     </span></td><td><span style=white-space:pre-wrap>13241       </span></td><td>member</td><td>-3227 secs</td><td>1</td><td>11</td><td>2021</td></tr>\n",
       "\t<tr><th scope=row>5</th><td>7AECC76D1562B51C</td><td>classic_bike </td><td>2021-11-07 01:54:58</td><td>2021-11-07 01:01:29</td><td>Sheffield Ave &amp; Wrightwood Ave</td><td>TA1309000023</td><td>Southport Ave &amp; Wellington Ave</td><td>TA1307000006</td><td>casual</td><td>-3209 secs</td><td>1</td><td>11</td><td>2021</td></tr>\n",
       "\t<tr><th scope=row>6</th><td>B506DCD44974C575</td><td>electric_bike</td><td>2021-11-07 01:53:34</td><td>2021-11-07 01:00:42</td><td>Milwaukee Ave &amp; Fullerton Ave </td><td><span style=white-space:pre-wrap>428         </span></td><td><span style=white-space:pre-wrap>                              </span></td><td><span style=white-space:pre-wrap>            </span></td><td>casual</td><td>-3172 secs</td><td>1</td><td>11</td><td>2021</td></tr>\n",
       "</tbody>\n",
       "</table>\n"
      ],
      "text/latex": [
       "A data.frame: 6 × 13\n",
       "\\begin{tabular}{r|lllllllllllll}\n",
       "  & trip\\_id & bikeid & start\\_time & end\\_time & from\\_station\\_name & from\\_station\\_id & to\\_station\\_name & to\\_station\\_id & usertype & tour\\_duration & day\\_of\\_week & rent\\_month & rent\\_year\\\\\n",
       "  & <chr> & <chr> & <dttm> & <dttm> & <chr> & <chr> & <chr> & <chr> & <chr> & <drtn> & <dbl> & <dbl> & <dbl>\\\\\n",
       "\\hline\n",
       "\t1 & 7CA158F5F050156E & electric\\_bike & 2021-11-07 01:58:08 & 2021-11-07 01:00:06 & Halsted St \\& Dickens Ave       & 13192        &                                &              & casual & -3482 secs & 1 & 11 & 2021\\\\\n",
       "\t2 & FD8AF7324ABAE9DA & electric\\_bike & 2021-11-07 01:56:51 & 2021-11-07 01:00:57 & Clark St \\& North Ave           & 13128        & Larrabee St \\& Webster Ave      & 13193        & casual & -3354 secs & 1 & 11 & 2021\\\\\n",
       "\t3 & 508B09A5FB0737DC & classic\\_bike  & 2021-11-07 01:54:50 & 2021-11-07 01:00:45 & Sedgwick St \\& Webster Ave      & 13191        & Sedgwick St \\& North Ave        & TA1307000038 & member & -3245 secs & 1 & 11 & 2021\\\\\n",
       "\t4 & 6F9E76F5EDAAC1B8 & electric\\_bike & 2021-11-07 01:55:42 & 2021-11-07 01:01:55 & Milwaukee Ave \\& Wabansia Ave   & 13243        & Western Ave \\& Division St      & 13241        & member & -3227 secs & 1 & 11 & 2021\\\\\n",
       "\t5 & 7AECC76D1562B51C & classic\\_bike  & 2021-11-07 01:54:58 & 2021-11-07 01:01:29 & Sheffield Ave \\& Wrightwood Ave & TA1309000023 & Southport Ave \\& Wellington Ave & TA1307000006 & casual & -3209 secs & 1 & 11 & 2021\\\\\n",
       "\t6 & B506DCD44974C575 & electric\\_bike & 2021-11-07 01:53:34 & 2021-11-07 01:00:42 & Milwaukee Ave \\& Fullerton Ave  & 428          &                                &              & casual & -3172 secs & 1 & 11 & 2021\\\\\n",
       "\\end{tabular}\n"
      ],
      "text/markdown": [
       "\n",
       "A data.frame: 6 × 13\n",
       "\n",
       "| <!--/--> | trip_id &lt;chr&gt; | bikeid &lt;chr&gt; | start_time &lt;dttm&gt; | end_time &lt;dttm&gt; | from_station_name &lt;chr&gt; | from_station_id &lt;chr&gt; | to_station_name &lt;chr&gt; | to_station_id &lt;chr&gt; | usertype &lt;chr&gt; | tour_duration &lt;drtn&gt; | day_of_week &lt;dbl&gt; | rent_month &lt;dbl&gt; | rent_year &lt;dbl&gt; |\n",
       "|---|---|---|---|---|---|---|---|---|---|---|---|---|---|\n",
       "| 1 | 7CA158F5F050156E | electric_bike | 2021-11-07 01:58:08 | 2021-11-07 01:00:06 | Halsted St &amp; Dickens Ave       | 13192        | <!----> | <!----> | casual | -3482 secs | 1 | 11 | 2021 |\n",
       "| 2 | FD8AF7324ABAE9DA | electric_bike | 2021-11-07 01:56:51 | 2021-11-07 01:00:57 | Clark St &amp; North Ave           | 13128        | Larrabee St &amp; Webster Ave      | 13193        | casual | -3354 secs | 1 | 11 | 2021 |\n",
       "| 3 | 508B09A5FB0737DC | classic_bike  | 2021-11-07 01:54:50 | 2021-11-07 01:00:45 | Sedgwick St &amp; Webster Ave      | 13191        | Sedgwick St &amp; North Ave        | TA1307000038 | member | -3245 secs | 1 | 11 | 2021 |\n",
       "| 4 | 6F9E76F5EDAAC1B8 | electric_bike | 2021-11-07 01:55:42 | 2021-11-07 01:01:55 | Milwaukee Ave &amp; Wabansia Ave   | 13243        | Western Ave &amp; Division St      | 13241        | member | -3227 secs | 1 | 11 | 2021 |\n",
       "| 5 | 7AECC76D1562B51C | classic_bike  | 2021-11-07 01:54:58 | 2021-11-07 01:01:29 | Sheffield Ave &amp; Wrightwood Ave | TA1309000023 | Southport Ave &amp; Wellington Ave | TA1307000006 | casual | -3209 secs | 1 | 11 | 2021 |\n",
       "| 6 | B506DCD44974C575 | electric_bike | 2021-11-07 01:53:34 | 2021-11-07 01:00:42 | Milwaukee Ave &amp; Fullerton Ave  | 428          | <!----> | <!----> | casual | -3172 secs | 1 | 11 | 2021 |\n",
       "\n"
      ],
      "text/plain": [
       "  trip_id          bikeid        start_time          end_time           \n",
       "1 7CA158F5F050156E electric_bike 2021-11-07 01:58:08 2021-11-07 01:00:06\n",
       "2 FD8AF7324ABAE9DA electric_bike 2021-11-07 01:56:51 2021-11-07 01:00:57\n",
       "3 508B09A5FB0737DC classic_bike  2021-11-07 01:54:50 2021-11-07 01:00:45\n",
       "4 6F9E76F5EDAAC1B8 electric_bike 2021-11-07 01:55:42 2021-11-07 01:01:55\n",
       "5 7AECC76D1562B51C classic_bike  2021-11-07 01:54:58 2021-11-07 01:01:29\n",
       "6 B506DCD44974C575 electric_bike 2021-11-07 01:53:34 2021-11-07 01:00:42\n",
       "  from_station_name              from_station_id to_station_name               \n",
       "1 Halsted St & Dickens Ave       13192                                         \n",
       "2 Clark St & North Ave           13128           Larrabee St & Webster Ave     \n",
       "3 Sedgwick St & Webster Ave      13191           Sedgwick St & North Ave       \n",
       "4 Milwaukee Ave & Wabansia Ave   13243           Western Ave & Division St     \n",
       "5 Sheffield Ave & Wrightwood Ave TA1309000023    Southport Ave & Wellington Ave\n",
       "6 Milwaukee Ave & Fullerton Ave  428                                           \n",
       "  to_station_id usertype tour_duration day_of_week rent_month rent_year\n",
       "1               casual   -3482 secs    1           11         2021     \n",
       "2 13193         casual   -3354 secs    1           11         2021     \n",
       "3 TA1307000038  member   -3245 secs    1           11         2021     \n",
       "4 13241         member   -3227 secs    1           11         2021     \n",
       "5 TA1307000006  casual   -3209 secs    1           11         2021     \n",
       "6               casual   -3172 secs    1           11         2021     "
      ]
     },
     "metadata": {},
     "output_type": "display_data"
    }
   ],
   "source": [
    "head(arrange(last_year, tour_duration))"
   ]
  },
  {
   "cell_type": "markdown",
   "id": "ab1d6019",
   "metadata": {
    "papermill": {
     "duration": 0.004649,
     "end_time": "2023-10-10T16:49:46.356208",
     "exception": false,
     "start_time": "2023-10-10T16:49:46.351559",
     "status": "completed"
    },
    "tags": []
   },
   "source": [
    "### Agora vamos retirar esses dados e verificar se existem duplicatas"
   ]
  },
  {
   "cell_type": "code",
   "execution_count": 7,
   "id": "1cdd4547",
   "metadata": {
    "execution": {
     "iopub.execute_input": "2023-10-10T16:49:46.369057Z",
     "iopub.status.busy": "2023-10-10T16:49:46.367573Z",
     "iopub.status.idle": "2023-10-10T16:53:31.652914Z",
     "shell.execute_reply": "2023-10-10T16:53:31.651278Z"
    },
    "papermill": {
     "duration": 225.301613,
     "end_time": "2023-10-10T16:53:31.662550",
     "exception": false,
     "start_time": "2023-10-10T16:49:46.360937",
     "status": "completed"
    },
    "tags": [],
    "vscode": {
     "languageId": "r"
    }
   },
   "outputs": [
    {
     "data": {
      "text/html": [
       "<table class=\"dataframe\">\n",
       "<caption>A data.frame: 6 × 13</caption>\n",
       "<thead>\n",
       "\t<tr><th></th><th scope=col>trip_id</th><th scope=col>bikeid</th><th scope=col>start_time</th><th scope=col>end_time</th><th scope=col>from_station_name</th><th scope=col>from_station_id</th><th scope=col>to_station_name</th><th scope=col>to_station_id</th><th scope=col>usertype</th><th scope=col>tour_duration</th><th scope=col>day_of_week</th><th scope=col>rent_month</th><th scope=col>rent_year</th></tr>\n",
       "\t<tr><th></th><th scope=col>&lt;chr&gt;</th><th scope=col>&lt;chr&gt;</th><th scope=col>&lt;dttm&gt;</th><th scope=col>&lt;dttm&gt;</th><th scope=col>&lt;chr&gt;</th><th scope=col>&lt;chr&gt;</th><th scope=col>&lt;chr&gt;</th><th scope=col>&lt;chr&gt;</th><th scope=col>&lt;chr&gt;</th><th scope=col>&lt;drtn&gt;</th><th scope=col>&lt;dbl&gt;</th><th scope=col>&lt;dbl&gt;</th><th scope=col>&lt;dbl&gt;</th></tr>\n",
       "</thead>\n",
       "<tbody>\n",
       "\t<tr><th scope=row>1</th><td>3F99442B76EC2051</td><td>classic_bike </td><td>2021-04-16 18:18:00</td><td>2021-04-16 18:18:01</td><td><span style=white-space:pre-wrap>Damen Ave &amp; Cortland St  </span></td><td>13133</td><td><span style=white-space:pre-wrap>Damen Ave &amp; Cortland St  </span></td><td>13133</td><td>member</td><td>1 secs</td><td>6</td><td>4</td><td>2021</td></tr>\n",
       "\t<tr><th scope=row>2</th><td>2DC9DF08B3526631</td><td>classic_bike </td><td>2021-04-16 07:58:39</td><td>2021-04-16 07:58:40</td><td><span style=white-space:pre-wrap>Wood St &amp; Chicago Ave    </span></td><td><span style=white-space:pre-wrap>637  </span></td><td><span style=white-space:pre-wrap>Wood St &amp; Chicago Ave    </span></td><td><span style=white-space:pre-wrap>637  </span></td><td>member</td><td>1 secs</td><td>6</td><td>4</td><td>2021</td></tr>\n",
       "\t<tr><th scope=row>3</th><td>08F12FCBFCB2E2AC</td><td>classic_bike </td><td>2021-04-04 23:19:08</td><td>2021-04-04 23:19:09</td><td>Millennium Park          </td><td>13008</td><td>Millennium Park          </td><td>13008</td><td>casual</td><td>1 secs</td><td>1</td><td>4</td><td>2021</td></tr>\n",
       "\t<tr><th scope=row>4</th><td>FA298BEA9192285D</td><td>electric_bike</td><td>2021-04-07 20:14:21</td><td>2021-04-07 20:14:22</td><td><span style=white-space:pre-wrap>Damen Ave &amp; Cortland St  </span></td><td>13133</td><td><span style=white-space:pre-wrap>                         </span></td><td><span style=white-space:pre-wrap>     </span></td><td>casual</td><td>1 secs</td><td>4</td><td>4</td><td>2021</td></tr>\n",
       "\t<tr><th scope=row>5</th><td>2E3A71EA22386A96</td><td>electric_bike</td><td>2021-04-17 17:34:09</td><td>2021-04-17 17:34:10</td><td>Lincoln Park Conservatory</td><td>LP-  </td><td>Lincoln Park Conservatory</td><td>LP-  </td><td>member</td><td>1 secs</td><td>7</td><td>4</td><td>2021</td></tr>\n",
       "\t<tr><th scope=row>6</th><td>83B251CA7B9F2B39</td><td>classic_bike </td><td>2021-04-18 15:42:44</td><td>2021-04-18 15:42:45</td><td>Lincoln Park Conservatory</td><td>LP-  </td><td>Lincoln Park Conservatory</td><td>LP-  </td><td>member</td><td>1 secs</td><td>1</td><td>4</td><td>2021</td></tr>\n",
       "</tbody>\n",
       "</table>\n"
      ],
      "text/latex": [
       "A data.frame: 6 × 13\n",
       "\\begin{tabular}{r|lllllllllllll}\n",
       "  & trip\\_id & bikeid & start\\_time & end\\_time & from\\_station\\_name & from\\_station\\_id & to\\_station\\_name & to\\_station\\_id & usertype & tour\\_duration & day\\_of\\_week & rent\\_month & rent\\_year\\\\\n",
       "  & <chr> & <chr> & <dttm> & <dttm> & <chr> & <chr> & <chr> & <chr> & <chr> & <drtn> & <dbl> & <dbl> & <dbl>\\\\\n",
       "\\hline\n",
       "\t1 & 3F99442B76EC2051 & classic\\_bike  & 2021-04-16 18:18:00 & 2021-04-16 18:18:01 & Damen Ave \\& Cortland St   & 13133 & Damen Ave \\& Cortland St   & 13133 & member & 1 secs & 6 & 4 & 2021\\\\\n",
       "\t2 & 2DC9DF08B3526631 & classic\\_bike  & 2021-04-16 07:58:39 & 2021-04-16 07:58:40 & Wood St \\& Chicago Ave     & 637   & Wood St \\& Chicago Ave     & 637   & member & 1 secs & 6 & 4 & 2021\\\\\n",
       "\t3 & 08F12FCBFCB2E2AC & classic\\_bike  & 2021-04-04 23:19:08 & 2021-04-04 23:19:09 & Millennium Park           & 13008 & Millennium Park           & 13008 & casual & 1 secs & 1 & 4 & 2021\\\\\n",
       "\t4 & FA298BEA9192285D & electric\\_bike & 2021-04-07 20:14:21 & 2021-04-07 20:14:22 & Damen Ave \\& Cortland St   & 13133 &                           &       & casual & 1 secs & 4 & 4 & 2021\\\\\n",
       "\t5 & 2E3A71EA22386A96 & electric\\_bike & 2021-04-17 17:34:09 & 2021-04-17 17:34:10 & Lincoln Park Conservatory & LP-   & Lincoln Park Conservatory & LP-   & member & 1 secs & 7 & 4 & 2021\\\\\n",
       "\t6 & 83B251CA7B9F2B39 & classic\\_bike  & 2021-04-18 15:42:44 & 2021-04-18 15:42:45 & Lincoln Park Conservatory & LP-   & Lincoln Park Conservatory & LP-   & member & 1 secs & 1 & 4 & 2021\\\\\n",
       "\\end{tabular}\n"
      ],
      "text/markdown": [
       "\n",
       "A data.frame: 6 × 13\n",
       "\n",
       "| <!--/--> | trip_id &lt;chr&gt; | bikeid &lt;chr&gt; | start_time &lt;dttm&gt; | end_time &lt;dttm&gt; | from_station_name &lt;chr&gt; | from_station_id &lt;chr&gt; | to_station_name &lt;chr&gt; | to_station_id &lt;chr&gt; | usertype &lt;chr&gt; | tour_duration &lt;drtn&gt; | day_of_week &lt;dbl&gt; | rent_month &lt;dbl&gt; | rent_year &lt;dbl&gt; |\n",
       "|---|---|---|---|---|---|---|---|---|---|---|---|---|---|\n",
       "| 1 | 3F99442B76EC2051 | classic_bike  | 2021-04-16 18:18:00 | 2021-04-16 18:18:01 | Damen Ave &amp; Cortland St   | 13133 | Damen Ave &amp; Cortland St   | 13133 | member | 1 secs | 6 | 4 | 2021 |\n",
       "| 2 | 2DC9DF08B3526631 | classic_bike  | 2021-04-16 07:58:39 | 2021-04-16 07:58:40 | Wood St &amp; Chicago Ave     | 637   | Wood St &amp; Chicago Ave     | 637   | member | 1 secs | 6 | 4 | 2021 |\n",
       "| 3 | 08F12FCBFCB2E2AC | classic_bike  | 2021-04-04 23:19:08 | 2021-04-04 23:19:09 | Millennium Park           | 13008 | Millennium Park           | 13008 | casual | 1 secs | 1 | 4 | 2021 |\n",
       "| 4 | FA298BEA9192285D | electric_bike | 2021-04-07 20:14:21 | 2021-04-07 20:14:22 | Damen Ave &amp; Cortland St   | 13133 | <!----> | <!----> | casual | 1 secs | 4 | 4 | 2021 |\n",
       "| 5 | 2E3A71EA22386A96 | electric_bike | 2021-04-17 17:34:09 | 2021-04-17 17:34:10 | Lincoln Park Conservatory | LP-   | Lincoln Park Conservatory | LP-   | member | 1 secs | 7 | 4 | 2021 |\n",
       "| 6 | 83B251CA7B9F2B39 | classic_bike  | 2021-04-18 15:42:44 | 2021-04-18 15:42:45 | Lincoln Park Conservatory | LP-   | Lincoln Park Conservatory | LP-   | member | 1 secs | 1 | 4 | 2021 |\n",
       "\n"
      ],
      "text/plain": [
       "  trip_id          bikeid        start_time          end_time           \n",
       "1 3F99442B76EC2051 classic_bike  2021-04-16 18:18:00 2021-04-16 18:18:01\n",
       "2 2DC9DF08B3526631 classic_bike  2021-04-16 07:58:39 2021-04-16 07:58:40\n",
       "3 08F12FCBFCB2E2AC classic_bike  2021-04-04 23:19:08 2021-04-04 23:19:09\n",
       "4 FA298BEA9192285D electric_bike 2021-04-07 20:14:21 2021-04-07 20:14:22\n",
       "5 2E3A71EA22386A96 electric_bike 2021-04-17 17:34:09 2021-04-17 17:34:10\n",
       "6 83B251CA7B9F2B39 classic_bike  2021-04-18 15:42:44 2021-04-18 15:42:45\n",
       "  from_station_name         from_station_id to_station_name          \n",
       "1 Damen Ave & Cortland St   13133           Damen Ave & Cortland St  \n",
       "2 Wood St & Chicago Ave     637             Wood St & Chicago Ave    \n",
       "3 Millennium Park           13008           Millennium Park          \n",
       "4 Damen Ave & Cortland St   13133                                    \n",
       "5 Lincoln Park Conservatory LP-             Lincoln Park Conservatory\n",
       "6 Lincoln Park Conservatory LP-             Lincoln Park Conservatory\n",
       "  to_station_id usertype tour_duration day_of_week rent_month rent_year\n",
       "1 13133         member   1 secs        6           4          2021     \n",
       "2 637           member   1 secs        6           4          2021     \n",
       "3 13008         casual   1 secs        1           4          2021     \n",
       "4               casual   1 secs        4           4          2021     \n",
       "5 LP-           member   1 secs        7           4          2021     \n",
       "6 LP-           member   1 secs        1           4          2021     "
      ]
     },
     "metadata": {},
     "output_type": "display_data"
    }
   ],
   "source": [
    "#Verificação de duplicatas, não foi encontrada nenhuma\n",
    "last_year <- unique.data.frame(last_year)\n",
    "#Retirando tempos de alugueis negativos ou iguais a zero, numero de linhas atuais: 5723606\n",
    "last_year <- subset(last_year, (tour_duration > 0))\n",
    "#Numero de linhas atuais: 5722891, totalizando a retirada de 715 linhas\n",
    "\n",
    "#verificando novamente\n",
    "head(arrange(last_year, tour_duration))"
   ]
  },
  {
   "cell_type": "markdown",
   "id": "35a784d0",
   "metadata": {
    "papermill": {
     "duration": 0.004977,
     "end_time": "2023-10-10T16:53:31.675648",
     "exception": false,
     "start_time": "2023-10-10T16:53:31.670671",
     "status": "completed"
    },
    "tags": []
   },
   "source": [
    "# Analise\n",
    "### Abaixo temos alguns calculos que vamos usar futuramente"
   ]
  },
  {
   "cell_type": "code",
   "execution_count": 8,
   "id": "c773f3b7",
   "metadata": {
    "execution": {
     "iopub.execute_input": "2023-10-10T16:53:31.688849Z",
     "iopub.status.busy": "2023-10-10T16:53:31.687423Z",
     "iopub.status.idle": "2023-10-10T16:53:32.340103Z",
     "shell.execute_reply": "2023-10-10T16:53:32.338447Z"
    },
    "papermill": {
     "duration": 0.661832,
     "end_time": "2023-10-10T16:53:32.342346",
     "exception": false,
     "start_time": "2023-10-10T16:53:31.680514",
     "status": "completed"
    },
    "tags": [],
    "vscode": {
     "languageId": "r"
    }
   },
   "outputs": [
    {
     "data": {
      "text/plain": [
       "Time difference of 1292.718 secs"
      ]
     },
     "metadata": {},
     "output_type": "display_data"
    },
    {
     "data": {
      "text/plain": [
       "Time difference of 703 secs"
      ]
     },
     "metadata": {},
     "output_type": "display_data"
    },
    {
     "data": {
      "text/plain": [
       "Time difference of 3356649 secs"
      ]
     },
     "metadata": {},
     "output_type": "display_data"
    },
    {
     "data": {
      "text/plain": [
       "Time difference of 1 secs"
      ]
     },
     "metadata": {},
     "output_type": "display_data"
    }
   ],
   "source": [
    "mean(last_year$tour_duration) #Duração média da corrida\n",
    "median(last_year$tour_duration) #tempo da moda\n",
    "max(last_year$tour_duration) #maior duração\n",
    "min(last_year$tour_duration) #menor duração"
   ]
  },
  {
   "cell_type": "markdown",
   "id": "7f99cfd3",
   "metadata": {
    "papermill": {
     "duration": 0.005337,
     "end_time": "2023-10-10T16:53:32.353117",
     "exception": false,
     "start_time": "2023-10-10T16:53:32.347780",
     "status": "completed"
    },
    "tags": []
   },
   "source": [
    "### Agora teremos alguns gráficos que irão gerar uma maior compreenssão dos nossos dados"
   ]
  },
  {
   "cell_type": "code",
   "execution_count": 9,
   "id": "f7c076a0",
   "metadata": {
    "execution": {
     "iopub.execute_input": "2023-10-10T16:53:32.367212Z",
     "iopub.status.busy": "2023-10-10T16:53:32.365755Z",
     "iopub.status.idle": "2023-10-10T16:53:48.608947Z",
     "shell.execute_reply": "2023-10-10T16:53:48.607172Z"
    },
    "papermill": {
     "duration": 16.253578,
     "end_time": "2023-10-10T16:53:48.611939",
     "exception": false,
     "start_time": "2023-10-10T16:53:32.358361",
     "status": "completed"
    },
    "tags": [],
    "vscode": {
     "languageId": "r"
    }
   },
   "outputs": [
    {
     "name": "stderr",
     "output_type": "stream",
     "text": [
      "\u001b[1m\u001b[22m`summarise()` has grouped output by 'usertype'. You can override using the\n",
      "`.groups` argument.\n"
     ]
    },
    {
     "data": {
      "image/png": "[encoded data removed]"
     },
     "metadata": {
      "image/png": {
       "height": 420,
       "width": 420
      }
     },
     "output_type": "display_data"
    },
    {
     "name": "stderr",
     "output_type": "stream",
     "text": [
      "\u001b[1m\u001b[22m`summarise()` has grouped output by 'usertype'. You can override using the\n",
      "`.groups` argument.\n",
      "\u001b[1m\u001b[22mDon't know how to automatically pick scale for object of type \u001b[34m<difftime>\u001b[39m.\n",
      "Defaulting to continuous.\n"
     ]
    },
    {
     "data": {
      "image/png": "[encoded data removed]"
     },
     "metadata": {
      "image/png": {
       "height": 420,
       "width": 420
      }
     },
     "output_type": "display_data"
    },
    {
     "data": {
      "image/png": "[encoded data removed]"
     },
     "metadata": {
      "image/png": {
       "height": 420,
       "width": 420
      }
     },
     "output_type": "display_data"
    }
   ],
   "source": [
    "\n",
    "ggplot(data=last_year) + geom_bar(mapping = aes(x = usertype)) +\n",
    "  labs(title = \"usuarios\",\n",
    "       subtitle = \"media anual\")\n",
    "\n",
    "last_year %>% \n",
    "  group_by(usertype, day_of_week) %>% \n",
    "  summarise(number_of_rides = n()) %>% \n",
    "  arrange(usertype, day_of_week)  %>% \n",
    "  ggplot(aes(x = day_of_week, y = number_of_rides, fill = usertype)) +\n",
    "  geom_col(position = \"dodge\") +\n",
    "  labs(title=\"Numero médio de corridas diárias\", \n",
    "       subtitle = \"média anual\",\n",
    "       caption = \"Analise, by Wallace\")\n",
    "\n",
    "last_year %>% \n",
    "  group_by(usertype, day_of_week) %>% \n",
    "  summarise(average_duration = mean(tour_duration)) %>% \n",
    "  arrange(usertype, day_of_week)  %>% \n",
    "  ggplot(aes(x = day_of_week, y = average_duration, fill = usertype)) +\n",
    "  geom_col(position = \"dodge\") +\n",
    "  labs(title=\"Duração media das corridas\", \n",
    "       subtitle = \"média anual\",\n",
    "       caption = \"Analise, by Wallace\")"
   ]
  },
  {
   "cell_type": "markdown",
   "id": "450acbbf",
   "metadata": {
    "papermill": {
     "duration": 0.007298,
     "end_time": "2023-10-10T16:53:48.627005",
     "exception": false,
     "start_time": "2023-10-10T16:53:48.619707",
     "status": "completed"
    },
    "tags": []
   },
   "source": [
    "### O primeiro gráfico mostra a difença entre membro, sendo membros anuais com 62% e membros cauais com 38%, os membros anuais realizam mais corridas, porém com um duração menor, sendo associado ao uso do dia como transporte, e já os usuarios casuais a utilizam as utilizam menor, porém com um maior duração, isso indica que são longas viagens, algo relacionado ao esporte."
   ]
  },
  {
   "cell_type": "code",
   "execution_count": 10,
   "id": "0c758f83",
   "metadata": {
    "execution": {
     "iopub.execute_input": "2023-10-10T16:53:48.645237Z",
     "iopub.status.busy": "2023-10-10T16:53:48.643710Z",
     "iopub.status.idle": "2023-10-10T16:53:49.284478Z",
     "shell.execute_reply": "2023-10-10T16:53:49.282637Z"
    },
    "papermill": {
     "duration": 0.652569,
     "end_time": "2023-10-10T16:53:49.286841",
     "exception": false,
     "start_time": "2023-10-10T16:53:48.634272",
     "status": "completed"
    },
    "tags": [],
    "vscode": {
     "languageId": "r"
    }
   },
   "outputs": [
    {
     "name": "stderr",
     "output_type": "stream",
     "text": [
      "\u001b[1m\u001b[22m`summarise()` has grouped output by 'usertype'. You can override using the\n",
      "`.groups` argument.\n"
     ]
    },
    {
     "data": {
      "image/png": "[encoded data removed]"
     },
     "metadata": {
      "image/png": {
       "height": 420,
       "width": 420
      }
     },
     "output_type": "display_data"
    }
   ],
   "source": [
    "last_year %>% \n",
    "  group_by(usertype, rent_month) %>% \n",
    "  summarise(number_of_rides = n()) %>% \n",
    "  arrange(usertype, rent_month)  %>% \n",
    "  ggplot(aes(x = rent_month, y = number_of_rides, fill = usertype)) +\n",
    "  geom_col(position = \"dodge\")"
   ]
  },
  {
   "cell_type": "markdown",
   "id": "0151e593",
   "metadata": {
    "papermill": {
     "duration": 0.008958,
     "end_time": "2023-10-10T16:53:49.303510",
     "exception": false,
     "start_time": "2023-10-10T16:53:49.294552",
     "status": "completed"
    },
    "tags": []
   },
   "source": [
    "# Compartilhar\n",
    "### Nesse ponto é importante que minhas análises tenham sido vistas por outras pessoas de áreas proximas de onde os dados normalmente ficam, para assim dar outras ídeias ou ver alguma inconssistencia que posso não ter notado, como não tenho nada assim, só revisei por mim mesmo e criei uma apresentação de slides para exibir meus resultados, ela estará nesse [link](https://docs.google.com/presentation/d/1jCEmuuEz6afck4jiGPQwj45UG8TvRdDU6nnY7c-SQ-4/edit?usp=sharing).\n",
    "\n",
    "# Agir\n",
    "### Essa é uma parte em equipe, onde os insights retirados da análise irão ajudar a realizar decisões, algumas sugestões foram dadas:\n",
    "1. Marketing sobre o uso de bicletas no dia a dia.\n",
    "2. Fazer essa implementação nos meses centrais, devido o maior movimento.\n",
    "3. Menos de 3% das bicletas alugadas são docked_bike, corrigatavel a retirada da mesma. \n",
    "\n",
    "### E outros dados foram apresentados para tomar decisões.\n",
    "# Essa foi a minha análise, obrigado pela atenção."
   ]
  },
  {
   "cell_type": "markdown",
   "id": "6f32bbee",
   "metadata": {
    "papermill": {
     "duration": 0.00791,
     "end_time": "2023-10-10T16:53:49.319155",
     "exception": false,
     "start_time": "2023-10-10T16:53:49.311245",
     "status": "completed"
    },
    "tags": []
   },
   "source": []
  }
 ],
 "metadata": {
  "kernelspec": {
   "display_name": "R",
   "language": "R",
   "name": "ir"
  },
  "language_info": {
   "codemirror_mode": "r",
   "file_extension": ".r",
   "mimetype": "text/x-r-source",
   "name": "R",
   "pygments_lexer": "r",
   "version": "4.0.5"
  },
  "papermill": {
   "default_parameters": {},
   "duration": 405.432067,
   "end_time": "2023-10-10T16:53:50.352424",
   "environment_variables": {},
   "exception": null,
   "input_path": "__notebook__.ipynb",
   "output_path": "__notebook__.ipynb",
   "parameters": {},
   "start_time": "2023-10-10T16:47:04.920357",
   "version": "2.4.0"
  }
 },
 "nbformat": 4,
 "nbformat_minor": 5
}
